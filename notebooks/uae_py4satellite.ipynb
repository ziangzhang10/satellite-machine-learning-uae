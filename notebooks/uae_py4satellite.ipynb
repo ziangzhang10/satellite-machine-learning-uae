{
 "cells": [
  {
   "cell_type": "markdown",
   "metadata": {},
   "source": [
    "# Satellite Image Processing for UAE Farms"
   ]
  },
  {
   "cell_type": "markdown",
   "metadata": {},
   "source": [
    "## Step 1: import all the necessary modules "
   ]
  },
  {
   "cell_type": "markdown",
   "metadata": {},
   "source": [
    "Reference:\n",
    "https://towardsdatascience.com/satellite-imagery-access-and-analysis-in-python-jupyter-notebooks-387971ece84b"
   ]
  },
  {
   "cell_type": "code",
   "execution_count": 1,
   "metadata": {},
   "outputs": [],
   "source": [
    "import os\n",
    "from sentinelsat import SentinelAPI, read_geojson, geojson_to_wkt\n",
    "\n",
    "user = 'ziangzhang10' \n",
    "password = 'init@Demand17' \n",
    "api = SentinelAPI(user, password, 'https://scihub.copernicus.eu/dhus')"
   ]
  },
  {
   "cell_type": "code",
   "execution_count": 2,
   "metadata": {},
   "outputs": [
    {
     "data": {
      "text/html": [
       "<div style=\"width:100%;\"><div style=\"position:relative;width:100%;height:0;padding-bottom:60%;\"><iframe src=\"data:text/html;charset=utf-8;base64,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\" style=\"position:absolute;width:100%;height:100%;left:0;top:0;border:none !important;\" allowfullscreen webkitallowfullscreen mozallowfullscreen></iframe></div></div>"
      ],
      "text/plain": [
       "<folium.folium.Map at 0x1f3d81619e8>"
      ]
     },
     "execution_count": 2,
     "metadata": {},
     "output_type": "execute_result"
    }
   ],
   "source": [
    "#import geopandas as gpd\n",
    "import folium \n",
    "\n",
    "nReserve = 'shapefiles/HattaFarm.geojson'\n",
    "\n",
    "m = folium.Map([24.798879, 56.120342], zoom_start=13)\n",
    "folium.GeoJson(nReserve).add_to(m)\n",
    "m"
   ]
  },
  {
   "cell_type": "markdown",
   "metadata": {},
   "source": [
    "## Part 2: Import data and list by geo dataframe\n",
    "\n",
    "Create footprint for the area of study\n",
    "\n",
    "(What exactly is footprint, really?)\n",
    "\n",
    "------\n",
    "\n",
    "MUST have geopandas"
   ]
  },
  {
   "cell_type": "code",
   "execution_count": 13,
   "metadata": {},
   "outputs": [],
   "source": [
    "footprint = geojson_to_wkt(read_geojson(nReserve))\n",
    "\n",
    "\n",
    "products = api.query(footprint,\n",
    "                     date = ('20190601', '20190626'),\n",
    "                     platformname = 'Sentinel-2',\n",
    "                     processinglevel = 'Level-2A',\n",
    "                     cloudcoverpercentage = (0,10)\n",
    "                    )"
   ]
  },
  {
   "cell_type": "markdown",
   "metadata": {},
   "source": [
    "Display list of satellite images"
   ]
  },
  {
   "cell_type": "code",
   "execution_count": 15,
   "metadata": {},
   "outputs": [
    {
     "data": {
      "text/html": [
       "<div>\n",
       "<style scoped>\n",
       "    .dataframe tbody tr th:only-of-type {\n",
       "        vertical-align: middle;\n",
       "    }\n",
       "\n",
       "    .dataframe tbody tr th {\n",
       "        vertical-align: top;\n",
       "    }\n",
       "\n",
       "    .dataframe thead th {\n",
       "        text-align: right;\n",
       "    }\n",
       "</style>\n",
       "<table border=\"1\" class=\"dataframe\">\n",
       "  <thead>\n",
       "    <tr style=\"text-align: right;\">\n",
       "      <th></th>\n",
       "      <th>title</th>\n",
       "      <th>link</th>\n",
       "      <th>link_alternative</th>\n",
       "      <th>link_icon</th>\n",
       "      <th>summary</th>\n",
       "      <th>beginposition</th>\n",
       "      <th>endposition</th>\n",
       "      <th>ingestiondate</th>\n",
       "      <th>orbitnumber</th>\n",
       "      <th>relativeorbitnumber</th>\n",
       "      <th>...</th>\n",
       "      <th>processingbaseline</th>\n",
       "      <th>processinglevel</th>\n",
       "      <th>producttype</th>\n",
       "      <th>platformname</th>\n",
       "      <th>size</th>\n",
       "      <th>filename</th>\n",
       "      <th>level1cpdiidentifier</th>\n",
       "      <th>identifier</th>\n",
       "      <th>uuid</th>\n",
       "      <th>geometry</th>\n",
       "    </tr>\n",
       "  </thead>\n",
       "  <tbody>\n",
       "    <tr>\n",
       "      <th>5acd9485-6343-4517-9f1c-900429963886</th>\n",
       "      <td>S2B_MSIL2A_20190608T064629_N0212_R020_T40RCN_2...</td>\n",
       "      <td>https://scihub.copernicus.eu/dhus/odata/v1/Pro...</td>\n",
       "      <td>https://scihub.copernicus.eu/dhus/odata/v1/Pro...</td>\n",
       "      <td>https://scihub.copernicus.eu/dhus/odata/v1/Pro...</td>\n",
       "      <td>Date: 2019-06-08T06:46:29.024Z, Instrument: MS...</td>\n",
       "      <td>2019-06-08 06:46:29.024</td>\n",
       "      <td>2019-06-08 06:46:29.024</td>\n",
       "      <td>2019-06-08 14:56:02.576</td>\n",
       "      <td>11772</td>\n",
       "      <td>20</td>\n",
       "      <td>...</td>\n",
       "      <td>02.12</td>\n",
       "      <td>Level-2A</td>\n",
       "      <td>S2MSI2A</td>\n",
       "      <td>Sentinel-2</td>\n",
       "      <td>1.06 GB</td>\n",
       "      <td>S2B_MSIL2A_20190608T064629_N0212_R020_T40RCN_2...</td>\n",
       "      <td>S2B_OPER_MSI_L1C_TL_SGS__20190608T103241_A0117...</td>\n",
       "      <td>S2B_MSIL2A_20190608T064629_N0212_R020_T40RCN_2...</td>\n",
       "      <td>5acd9485-6343-4517-9f1c-900429963886</td>\n",
       "      <td>(POLYGON ((55.02911850574769 24.31230187568995...</td>\n",
       "    </tr>\n",
       "    <tr>\n",
       "      <th>cbe565f4-be00-4696-ac24-2a7be9327fe8</th>\n",
       "      <td>S2A_MSIL2A_20190603T064631_N0212_R020_T40RCN_2...</td>\n",
       "      <td>https://scihub.copernicus.eu/dhus/odata/v1/Pro...</td>\n",
       "      <td>https://scihub.copernicus.eu/dhus/odata/v1/Pro...</td>\n",
       "      <td>https://scihub.copernicus.eu/dhus/odata/v1/Pro...</td>\n",
       "      <td>Date: 2019-06-03T06:46:31.024Z, Instrument: MS...</td>\n",
       "      <td>2019-06-03 06:46:31.024</td>\n",
       "      <td>2019-06-03 06:46:31.024</td>\n",
       "      <td>2019-06-03 17:40:35.880</td>\n",
       "      <td>20609</td>\n",
       "      <td>20</td>\n",
       "      <td>...</td>\n",
       "      <td>02.12</td>\n",
       "      <td>Level-2A</td>\n",
       "      <td>S2MSI2A</td>\n",
       "      <td>Sentinel-2</td>\n",
       "      <td>1.06 GB</td>\n",
       "      <td>S2A_MSIL2A_20190603T064631_N0212_R020_T40RCN_2...</td>\n",
       "      <td>S2A_OPER_MSI_L1C_TL_MTI__20190603T085822_A0206...</td>\n",
       "      <td>S2A_MSIL2A_20190603T064631_N0212_R020_T40RCN_2...</td>\n",
       "      <td>cbe565f4-be00-4696-ac24-2a7be9327fe8</td>\n",
       "      <td>(POLYGON ((55.02911850574769 24.31230187568995...</td>\n",
       "    </tr>\n",
       "    <tr>\n",
       "      <th>8b70585e-444b-4917-8847-1c0857c3d4ad</th>\n",
       "      <td>S2B_MSIL2A_20190618T064629_N0212_R020_T40RCN_2...</td>\n",
       "      <td>https://scihub.copernicus.eu/dhus/odata/v1/Pro...</td>\n",
       "      <td>https://scihub.copernicus.eu/dhus/odata/v1/Pro...</td>\n",
       "      <td>https://scihub.copernicus.eu/dhus/odata/v1/Pro...</td>\n",
       "      <td>Date: 2019-06-18T06:46:29.024Z, Instrument: MS...</td>\n",
       "      <td>2019-06-18 06:46:29.024</td>\n",
       "      <td>2019-06-18 06:46:29.024</td>\n",
       "      <td>2019-06-18 15:35:52.785</td>\n",
       "      <td>11915</td>\n",
       "      <td>20</td>\n",
       "      <td>...</td>\n",
       "      <td>02.12</td>\n",
       "      <td>Level-2A</td>\n",
       "      <td>S2MSI2A</td>\n",
       "      <td>Sentinel-2</td>\n",
       "      <td>1.06 GB</td>\n",
       "      <td>S2B_MSIL2A_20190618T064629_N0212_R020_T40RCN_2...</td>\n",
       "      <td>S2B_OPER_MSI_L1C_TL_SGS__20190618T103116_A0119...</td>\n",
       "      <td>S2B_MSIL2A_20190618T064629_N0212_R020_T40RCN_2...</td>\n",
       "      <td>8b70585e-444b-4917-8847-1c0857c3d4ad</td>\n",
       "      <td>(POLYGON ((55.02911850574769 24.31230187568995...</td>\n",
       "    </tr>\n",
       "    <tr>\n",
       "      <th>8c33e025-c682-4a0d-adb2-8cb885c307f2</th>\n",
       "      <td>S2A_MSIL2A_20190613T064631_N0212_R020_T40RCN_2...</td>\n",
       "      <td>https://scihub.copernicus.eu/dhus/odata/v1/Pro...</td>\n",
       "      <td>https://scihub.copernicus.eu/dhus/odata/v1/Pro...</td>\n",
       "      <td>https://scihub.copernicus.eu/dhus/odata/v1/Pro...</td>\n",
       "      <td>Date: 2019-06-13T06:46:31.024Z, Instrument: MS...</td>\n",
       "      <td>2019-06-13 06:46:31.024</td>\n",
       "      <td>2019-06-13 06:46:31.024</td>\n",
       "      <td>2019-06-13 16:09:11.206</td>\n",
       "      <td>20752</td>\n",
       "      <td>20</td>\n",
       "      <td>...</td>\n",
       "      <td>02.12</td>\n",
       "      <td>Level-2A</td>\n",
       "      <td>S2MSI2A</td>\n",
       "      <td>Sentinel-2</td>\n",
       "      <td>1.05 GB</td>\n",
       "      <td>S2A_MSIL2A_20190613T064631_N0212_R020_T40RCN_2...</td>\n",
       "      <td>S2A_OPER_MSI_L1C_TL_MTI__20190613T085808_A0207...</td>\n",
       "      <td>S2A_MSIL2A_20190613T064631_N0212_R020_T40RCN_2...</td>\n",
       "      <td>8c33e025-c682-4a0d-adb2-8cb885c307f2</td>\n",
       "      <td>(POLYGON ((55.02911850574769 24.31230187568995...</td>\n",
       "    </tr>\n",
       "    <tr>\n",
       "      <th>fe156f61-eb93-4cc2-a93e-4c8ffc8dad51</th>\n",
       "      <td>S2A_MSIL2A_20190623T064631_N0212_R020_T40RCN_2...</td>\n",
       "      <td>https://scihub.copernicus.eu/dhus/odata/v1/Pro...</td>\n",
       "      <td>https://scihub.copernicus.eu/dhus/odata/v1/Pro...</td>\n",
       "      <td>https://scihub.copernicus.eu/dhus/odata/v1/Pro...</td>\n",
       "      <td>Date: 2019-06-23T06:46:31.024Z, Instrument: MS...</td>\n",
       "      <td>2019-06-23 06:46:31.024</td>\n",
       "      <td>2019-06-23 06:46:31.024</td>\n",
       "      <td>2019-06-23 15:39:44.791</td>\n",
       "      <td>20895</td>\n",
       "      <td>20</td>\n",
       "      <td>...</td>\n",
       "      <td>02.12</td>\n",
       "      <td>Level-2A</td>\n",
       "      <td>S2MSI2A</td>\n",
       "      <td>Sentinel-2</td>\n",
       "      <td>1.03 GB</td>\n",
       "      <td>S2A_MSIL2A_20190623T064631_N0212_R020_T40RCN_2...</td>\n",
       "      <td>S2A_OPER_MSI_L1C_TL_MTI__20190623T085707_A0208...</td>\n",
       "      <td>S2A_MSIL2A_20190623T064631_N0212_R020_T40RCN_2...</td>\n",
       "      <td>fe156f61-eb93-4cc2-a93e-4c8ffc8dad51</td>\n",
       "      <td>(POLYGON ((55.02911850574769 24.31230187568995...</td>\n",
       "    </tr>\n",
       "  </tbody>\n",
       "</table>\n",
       "<p>5 rows × 35 columns</p>\n",
       "</div>"
      ],
      "text/plain": [
       "                                                                                  title  \\\n",
       "5acd9485-6343-4517-9f1c-900429963886  S2B_MSIL2A_20190608T064629_N0212_R020_T40RCN_2...   \n",
       "cbe565f4-be00-4696-ac24-2a7be9327fe8  S2A_MSIL2A_20190603T064631_N0212_R020_T40RCN_2...   \n",
       "8b70585e-444b-4917-8847-1c0857c3d4ad  S2B_MSIL2A_20190618T064629_N0212_R020_T40RCN_2...   \n",
       "8c33e025-c682-4a0d-adb2-8cb885c307f2  S2A_MSIL2A_20190613T064631_N0212_R020_T40RCN_2...   \n",
       "fe156f61-eb93-4cc2-a93e-4c8ffc8dad51  S2A_MSIL2A_20190623T064631_N0212_R020_T40RCN_2...   \n",
       "\n",
       "                                                                                   link  \\\n",
       "5acd9485-6343-4517-9f1c-900429963886  https://scihub.copernicus.eu/dhus/odata/v1/Pro...   \n",
       "cbe565f4-be00-4696-ac24-2a7be9327fe8  https://scihub.copernicus.eu/dhus/odata/v1/Pro...   \n",
       "8b70585e-444b-4917-8847-1c0857c3d4ad  https://scihub.copernicus.eu/dhus/odata/v1/Pro...   \n",
       "8c33e025-c682-4a0d-adb2-8cb885c307f2  https://scihub.copernicus.eu/dhus/odata/v1/Pro...   \n",
       "fe156f61-eb93-4cc2-a93e-4c8ffc8dad51  https://scihub.copernicus.eu/dhus/odata/v1/Pro...   \n",
       "\n",
       "                                                                       link_alternative  \\\n",
       "5acd9485-6343-4517-9f1c-900429963886  https://scihub.copernicus.eu/dhus/odata/v1/Pro...   \n",
       "cbe565f4-be00-4696-ac24-2a7be9327fe8  https://scihub.copernicus.eu/dhus/odata/v1/Pro...   \n",
       "8b70585e-444b-4917-8847-1c0857c3d4ad  https://scihub.copernicus.eu/dhus/odata/v1/Pro...   \n",
       "8c33e025-c682-4a0d-adb2-8cb885c307f2  https://scihub.copernicus.eu/dhus/odata/v1/Pro...   \n",
       "fe156f61-eb93-4cc2-a93e-4c8ffc8dad51  https://scihub.copernicus.eu/dhus/odata/v1/Pro...   \n",
       "\n",
       "                                                                              link_icon  \\\n",
       "5acd9485-6343-4517-9f1c-900429963886  https://scihub.copernicus.eu/dhus/odata/v1/Pro...   \n",
       "cbe565f4-be00-4696-ac24-2a7be9327fe8  https://scihub.copernicus.eu/dhus/odata/v1/Pro...   \n",
       "8b70585e-444b-4917-8847-1c0857c3d4ad  https://scihub.copernicus.eu/dhus/odata/v1/Pro...   \n",
       "8c33e025-c682-4a0d-adb2-8cb885c307f2  https://scihub.copernicus.eu/dhus/odata/v1/Pro...   \n",
       "fe156f61-eb93-4cc2-a93e-4c8ffc8dad51  https://scihub.copernicus.eu/dhus/odata/v1/Pro...   \n",
       "\n",
       "                                                                                summary  \\\n",
       "5acd9485-6343-4517-9f1c-900429963886  Date: 2019-06-08T06:46:29.024Z, Instrument: MS...   \n",
       "cbe565f4-be00-4696-ac24-2a7be9327fe8  Date: 2019-06-03T06:46:31.024Z, Instrument: MS...   \n",
       "8b70585e-444b-4917-8847-1c0857c3d4ad  Date: 2019-06-18T06:46:29.024Z, Instrument: MS...   \n",
       "8c33e025-c682-4a0d-adb2-8cb885c307f2  Date: 2019-06-13T06:46:31.024Z, Instrument: MS...   \n",
       "fe156f61-eb93-4cc2-a93e-4c8ffc8dad51  Date: 2019-06-23T06:46:31.024Z, Instrument: MS...   \n",
       "\n",
       "                                               beginposition  \\\n",
       "5acd9485-6343-4517-9f1c-900429963886 2019-06-08 06:46:29.024   \n",
       "cbe565f4-be00-4696-ac24-2a7be9327fe8 2019-06-03 06:46:31.024   \n",
       "8b70585e-444b-4917-8847-1c0857c3d4ad 2019-06-18 06:46:29.024   \n",
       "8c33e025-c682-4a0d-adb2-8cb885c307f2 2019-06-13 06:46:31.024   \n",
       "fe156f61-eb93-4cc2-a93e-4c8ffc8dad51 2019-06-23 06:46:31.024   \n",
       "\n",
       "                                                 endposition  \\\n",
       "5acd9485-6343-4517-9f1c-900429963886 2019-06-08 06:46:29.024   \n",
       "cbe565f4-be00-4696-ac24-2a7be9327fe8 2019-06-03 06:46:31.024   \n",
       "8b70585e-444b-4917-8847-1c0857c3d4ad 2019-06-18 06:46:29.024   \n",
       "8c33e025-c682-4a0d-adb2-8cb885c307f2 2019-06-13 06:46:31.024   \n",
       "fe156f61-eb93-4cc2-a93e-4c8ffc8dad51 2019-06-23 06:46:31.024   \n",
       "\n",
       "                                               ingestiondate  orbitnumber  \\\n",
       "5acd9485-6343-4517-9f1c-900429963886 2019-06-08 14:56:02.576        11772   \n",
       "cbe565f4-be00-4696-ac24-2a7be9327fe8 2019-06-03 17:40:35.880        20609   \n",
       "8b70585e-444b-4917-8847-1c0857c3d4ad 2019-06-18 15:35:52.785        11915   \n",
       "8c33e025-c682-4a0d-adb2-8cb885c307f2 2019-06-13 16:09:11.206        20752   \n",
       "fe156f61-eb93-4cc2-a93e-4c8ffc8dad51 2019-06-23 15:39:44.791        20895   \n",
       "\n",
       "                                      relativeorbitnumber  ...  \\\n",
       "5acd9485-6343-4517-9f1c-900429963886                   20  ...   \n",
       "cbe565f4-be00-4696-ac24-2a7be9327fe8                   20  ...   \n",
       "8b70585e-444b-4917-8847-1c0857c3d4ad                   20  ...   \n",
       "8c33e025-c682-4a0d-adb2-8cb885c307f2                   20  ...   \n",
       "fe156f61-eb93-4cc2-a93e-4c8ffc8dad51                   20  ...   \n",
       "\n",
       "                                      processingbaseline  processinglevel  \\\n",
       "5acd9485-6343-4517-9f1c-900429963886               02.12         Level-2A   \n",
       "cbe565f4-be00-4696-ac24-2a7be9327fe8               02.12         Level-2A   \n",
       "8b70585e-444b-4917-8847-1c0857c3d4ad               02.12         Level-2A   \n",
       "8c33e025-c682-4a0d-adb2-8cb885c307f2               02.12         Level-2A   \n",
       "fe156f61-eb93-4cc2-a93e-4c8ffc8dad51               02.12         Level-2A   \n",
       "\n",
       "                                      producttype  platformname     size  \\\n",
       "5acd9485-6343-4517-9f1c-900429963886      S2MSI2A    Sentinel-2  1.06 GB   \n",
       "cbe565f4-be00-4696-ac24-2a7be9327fe8      S2MSI2A    Sentinel-2  1.06 GB   \n",
       "8b70585e-444b-4917-8847-1c0857c3d4ad      S2MSI2A    Sentinel-2  1.06 GB   \n",
       "8c33e025-c682-4a0d-adb2-8cb885c307f2      S2MSI2A    Sentinel-2  1.05 GB   \n",
       "fe156f61-eb93-4cc2-a93e-4c8ffc8dad51      S2MSI2A    Sentinel-2  1.03 GB   \n",
       "\n",
       "                                                                               filename  \\\n",
       "5acd9485-6343-4517-9f1c-900429963886  S2B_MSIL2A_20190608T064629_N0212_R020_T40RCN_2...   \n",
       "cbe565f4-be00-4696-ac24-2a7be9327fe8  S2A_MSIL2A_20190603T064631_N0212_R020_T40RCN_2...   \n",
       "8b70585e-444b-4917-8847-1c0857c3d4ad  S2B_MSIL2A_20190618T064629_N0212_R020_T40RCN_2...   \n",
       "8c33e025-c682-4a0d-adb2-8cb885c307f2  S2A_MSIL2A_20190613T064631_N0212_R020_T40RCN_2...   \n",
       "fe156f61-eb93-4cc2-a93e-4c8ffc8dad51  S2A_MSIL2A_20190623T064631_N0212_R020_T40RCN_2...   \n",
       "\n",
       "                                                                   level1cpdiidentifier  \\\n",
       "5acd9485-6343-4517-9f1c-900429963886  S2B_OPER_MSI_L1C_TL_SGS__20190608T103241_A0117...   \n",
       "cbe565f4-be00-4696-ac24-2a7be9327fe8  S2A_OPER_MSI_L1C_TL_MTI__20190603T085822_A0206...   \n",
       "8b70585e-444b-4917-8847-1c0857c3d4ad  S2B_OPER_MSI_L1C_TL_SGS__20190618T103116_A0119...   \n",
       "8c33e025-c682-4a0d-adb2-8cb885c307f2  S2A_OPER_MSI_L1C_TL_MTI__20190613T085808_A0207...   \n",
       "fe156f61-eb93-4cc2-a93e-4c8ffc8dad51  S2A_OPER_MSI_L1C_TL_MTI__20190623T085707_A0208...   \n",
       "\n",
       "                                                                             identifier  \\\n",
       "5acd9485-6343-4517-9f1c-900429963886  S2B_MSIL2A_20190608T064629_N0212_R020_T40RCN_2...   \n",
       "cbe565f4-be00-4696-ac24-2a7be9327fe8  S2A_MSIL2A_20190603T064631_N0212_R020_T40RCN_2...   \n",
       "8b70585e-444b-4917-8847-1c0857c3d4ad  S2B_MSIL2A_20190618T064629_N0212_R020_T40RCN_2...   \n",
       "8c33e025-c682-4a0d-adb2-8cb885c307f2  S2A_MSIL2A_20190613T064631_N0212_R020_T40RCN_2...   \n",
       "fe156f61-eb93-4cc2-a93e-4c8ffc8dad51  S2A_MSIL2A_20190623T064631_N0212_R020_T40RCN_2...   \n",
       "\n",
       "                                                                      uuid  \\\n",
       "5acd9485-6343-4517-9f1c-900429963886  5acd9485-6343-4517-9f1c-900429963886   \n",
       "cbe565f4-be00-4696-ac24-2a7be9327fe8  cbe565f4-be00-4696-ac24-2a7be9327fe8   \n",
       "8b70585e-444b-4917-8847-1c0857c3d4ad  8b70585e-444b-4917-8847-1c0857c3d4ad   \n",
       "8c33e025-c682-4a0d-adb2-8cb885c307f2  8c33e025-c682-4a0d-adb2-8cb885c307f2   \n",
       "fe156f61-eb93-4cc2-a93e-4c8ffc8dad51  fe156f61-eb93-4cc2-a93e-4c8ffc8dad51   \n",
       "\n",
       "                                                                               geometry  \n",
       "5acd9485-6343-4517-9f1c-900429963886  (POLYGON ((55.02911850574769 24.31230187568995...  \n",
       "cbe565f4-be00-4696-ac24-2a7be9327fe8  (POLYGON ((55.02911850574769 24.31230187568995...  \n",
       "8b70585e-444b-4917-8847-1c0857c3d4ad  (POLYGON ((55.02911850574769 24.31230187568995...  \n",
       "8c33e025-c682-4a0d-adb2-8cb885c307f2  (POLYGON ((55.02911850574769 24.31230187568995...  \n",
       "fe156f61-eb93-4cc2-a93e-4c8ffc8dad51  (POLYGON ((55.02911850574769 24.31230187568995...  \n",
       "\n",
       "[5 rows x 35 columns]"
      ]
     },
     "execution_count": 15,
     "metadata": {},
     "output_type": "execute_result"
    }
   ],
   "source": [
    "products_gdf = api.to_geodataframe(products)\n",
    "products_gdf_sorted = products_gdf.sort_values(['cloudcoverpercentage'], ascending=[True])\n",
    "products_gdf_sorted"
   ]
  },
  {
   "cell_type": "markdown",
   "metadata": {},
   "source": [
    "Download one image"
   ]
  },
  {
   "cell_type": "code",
   "execution_count": 16,
   "metadata": {},
   "outputs": [
    {
     "name": "stderr",
     "output_type": "stream",
     "text": [
      "Downloading: 100%|██████████████████████████████████████████████████████████████████████████████████████████████████████████████████████████████████████████████████████████████████████████████████████████████████████████████████████████████████████████████████████████████████████| 1.10G/1.10G [20:07<00:00, 816kB/s]\n",
      "MD5 checksumming: 100%|█████████████████████████████████████████████████████████████████████████████████████████████████████████████████████████████████████████████████████████████████████████████████████████████████████████████████████████████████████████████████████████████████| 1.10G/1.10G [00:02<00:00, 459MB/s]\n"
     ]
    },
    {
     "data": {
      "text/plain": [
       "{'id': 'fe156f61-eb93-4cc2-a93e-4c8ffc8dad51',\n",
       " 'title': 'S2A_MSIL2A_20190623T064631_N0212_R020_T40RCN_20190623T095055',\n",
       " 'size': 1104891946,\n",
       " 'md5': '1CDA890F92179A0F615992D8D066B79B',\n",
       " 'date': datetime.datetime(2019, 6, 23, 6, 46, 31, 24000),\n",
       " 'footprint': 'POLYGON((55.01337860548796 25.303347211715167,56.10386391236236 25.314010097201564,56.11096843408507 24.322493033731597,55.02911850574769 24.31230187568995,55.01337860548796 25.303347211715167))',\n",
       " 'url': \"https://scihub.copernicus.eu/dhus/odata/v1/Products('fe156f61-eb93-4cc2-a93e-4c8ffc8dad51')/$value\",\n",
       " 'Online': True,\n",
       " 'Creation Date': datetime.datetime(2019, 6, 23, 15, 45, 15, 643000),\n",
       " 'Ingestion Date': datetime.datetime(2019, 6, 23, 15, 39, 44, 791000),\n",
       " 'path': '.\\\\S2A_MSIL2A_20190623T064631_N0212_R020_T40RCN_20190623T095055.zip',\n",
       " 'downloaded_bytes': 1104891946}"
      ]
     },
     "execution_count": 16,
     "metadata": {},
     "output_type": "execute_result"
    }
   ],
   "source": [
    "api.download(\"fe156f61-eb93-4cc2-a93e-4c8ffc8dad51\")\n"
   ]
  },
  {
   "cell_type": "markdown",
   "metadata": {},
   "source": [
    "## Part 3: Read the Image with Rasterio\n",
    "We'll be using the R10m images\n",
    "\n",
    "SHOULD have definitely used wms_bands_request instead of downloading the original file. THis is too verbose. "
   ]
  },
  {
   "cell_type": "code",
   "execution_count": 5,
   "metadata": {},
   "outputs": [],
   "source": [
    "import rasterio as rio\n",
    "# Create RGB image to show\n",
    "\n",
    "# Open Bands 4, 3 and 2 with Rasterio\n",
    "R10 = os.path.join(\"..\", \"..\", \"satellite-machine-learning-uae-data\", \"S2A_MSIL2A_20190623T064631_N0212_R020_T40RCN_20190623T095055.SAFE\", \"GRANULE\", \"L2A_T40RCN_A020895_20190623T065920\", \"IMG_DATA\", \"R10m\")\n",
    "b4 = rio.open(os.path.join(R10, 'T40RCN_20190623T064631_B04_10m.jp2'))\n",
    "b3 = rio.open(os.path.join(R10, 'T40RCN_20190623T064631_B03_10m.jp2'))\n",
    "b2 = rio.open(os.path.join(R10, 'T40RCN_20190623T064631_B02_10m.jp2'))\n"
   ]
  },
  {
   "cell_type": "markdown",
   "metadata": {},
   "source": [
    "# JEEZ! Spent 2 hours solving python dependency BS!"
   ]
  },
  {
   "cell_type": "code",
   "execution_count": 6,
   "metadata": {},
   "outputs": [],
   "source": [
    "# Create an RGB image \n",
    "with rio.open('RGB.tiff','w',driver='Gtiff', width=b4.width, height=b4.height, \n",
    "              count=3,crs=b4.crs,transform=b4.transform, dtype=b4.dtypes[0]) as rgb:\n",
    "    rgb.write(b2.read(1),1) \n",
    "    rgb.write(b3.read(1),2) \n",
    "    rgb.write(b4.read(1),3) \n",
    "    rgb.close()\n"
   ]
  },
  {
   "cell_type": "markdown",
   "metadata": {},
   "source": [
    "# Why would This image include part of Dubai?? Ridiculous!"
   ]
  },
  {
   "cell_type": "code",
   "execution_count": null,
   "metadata": {},
   "outputs": [],
   "source": []
  }
 ],
 "metadata": {
  "kernelspec": {
   "display_name": "Python for satellite",
   "language": "python",
   "name": "satellite_env"
  },
  "language_info": {
   "codemirror_mode": {
    "name": "ipython",
    "version": 3
   },
   "file_extension": ".py",
   "mimetype": "text/x-python",
   "name": "python",
   "nbconvert_exporter": "python",
   "pygments_lexer": "ipython3",
   "version": "3.6.8"
  }
 },
 "nbformat": 4,
 "nbformat_minor": 2
}
